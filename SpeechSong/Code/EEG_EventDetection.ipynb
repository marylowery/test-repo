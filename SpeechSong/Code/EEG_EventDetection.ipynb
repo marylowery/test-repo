{
 "cells": [
  {
   "cell_type": "code",
   "execution_count": 3,
   "metadata": {},
   "outputs": [
    {
     "name": "stdout",
     "output_type": "stream",
     "text": [
      "Extracting parameters from /run/user/1001/gvfs/smb-share:server=fileserver.moody.utexas.edu,share=research_projects/Hamilton/speechsong/EEG/EEG_P0002/EEG_P0002_B1.vhdr...\n",
      "Setting channel info structure...\n",
      "Reading 0 ... 22691249  =      0.000 ...   907.650 secs...\n"
     ]
    }
   ],
   "source": [
    "import numpy as np\n",
    "import mne\n",
    "import matplotlib.pyplot as plt\n",
    "import scipy.io\n",
    "import scipy.io.wavfile\n",
    "import scipy.signal\n",
    "import match_filter\n",
    "import sys\n",
    "import math\n",
    "import h5py\n",
    "import os\n",
    "import glob\n",
    "import re\n",
    "\n",
    "%matplotlib inline\n",
    "\n",
    "filepath = '/run/user/1001/gvfs/smb-share:server=fileserver.moody.utexas.edu,share=research_projects/Hamilton/speechsong/EEG/EEG_P0002/EEG_P0002_B1.vhdr'\n",
    "raw = mne.io.read_raw_brainvision(filepath, preload=True)"
   ]
  },
  {
   "cell_type": "code",
   "execution_count": 5,
   "metadata": {},
   "outputs": [
    {
     "name": "stdout",
     "output_type": "stream",
     "text": [
      "Setting up band-pass filter from 1 - 4e+02 Hz\n",
      "l_trans_bandwidth chosen to be 1.0 Hz\n",
      "h_trans_bandwidth chosen to be 100.0 Hz\n",
      "Filter length of 82501 samples (3.300 sec) selected\n"
     ]
    },
    {
     "name": "stderr",
     "output_type": "stream",
     "text": [
      "[Parallel(n_jobs=2)]: Using backend LokyBackend with 2 concurrent workers.\n",
      "[Parallel(n_jobs=2)]: Done  14 tasks      | elapsed:   22.4s\n",
      "[Parallel(n_jobs=2)]: Done  65 out of  65 | elapsed:  1.6min finished\n"
     ]
    }
   ],
   "source": [
    "stimpicks = mne.pick_types(raw.info, meg=False, eeg=False, eog=False, stim=True, exclude='bads')\n",
    "raw.filter(1., 400., n_jobs=2, fir_design='firwin')\n",
    "raw.resample(400, stim_picks=stimpicks)\n",
    "\n",
    "# picks_eeg = mne.pick_types(raw.info, meg=False, eeg=True, eog=False,stim=False, exclude='bads')\n",
    "\n",
    "decim = 3\n"
   ]
  },
  {
   "cell_type": "code",
   "execution_count": 7,
   "metadata": {},
   "outputs": [
    {
     "data": {
      "text/plain": [
       "400.0"
      ]
     },
     "execution_count": 7,
     "metadata": {},
     "output_type": "execute_result"
    }
   ],
   "source": [
    "spk_signal = raw.get_data(picks=stimpicks) # get the audio data \n",
    "spk_signal = spk_signal.ravel().astype(float)\n",
    "\n",
    "raw.info['sfreq']\n",
    "\n",
    "# spk_fs = \n",
    "\n",
    "# # Plot 30 seconds of the speaker signal \n",
    "# plt.figure(figsize = (8,1))\n",
    "# plt.plot(spk_signal[int(spk_fs*10):int(spk_fs*40)].T)\n",
    "# plt.title('30 seconds of speaker signal')\n",
    "\n",
    "# # Loop through wav files to load the templates that you wish to find\n",
    "# # and plot each template \n",
    "# trials_dir = '/home/mary/SpeechSong/Trials/'\n",
    "# trial_wavs = glob.glob(os.path.join(trials_dir, '*.wav'))[::-1]\n",
    "# for filename in trial_wavs:\n",
    "#     [template_fs, template_sound] = scipy.io.wavfile.read(filename)\n",
    "#     plt.figure(figsize = (8,1))\n",
    "#     plt.plot(template_sound, 'r')\n",
    "#     plt.title(os.path.basename(filename))"
   ]
  },
  {
   "cell_type": "code",
   "execution_count": null,
   "metadata": {
    "collapsed": true
   },
   "outputs": [],
   "source": []
  }
 ],
 "metadata": {
  "kernelspec": {
   "display_name": "Python (mne)",
   "language": "python",
   "name": "mne"
  },
  "language_info": {
   "codemirror_mode": {
    "name": "ipython",
    "version": 3
   },
   "file_extension": ".py",
   "mimetype": "text/x-python",
   "name": "python",
   "nbconvert_exporter": "python",
   "pygments_lexer": "ipython3",
   "version": "3.6.6"
  }
 },
 "nbformat": 4,
 "nbformat_minor": 2
}
